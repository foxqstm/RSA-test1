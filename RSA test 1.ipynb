{
 "cells": [
  {
   "cell_type": "code",
   "execution_count": 10,
   "metadata": {},
   "outputs": [
    {
     "name": "stdout",
     "output_type": "stream",
     "text": [
      "True\n",
      "元の数 920937\n",
      "暗号化された数 574853578077820610479812694287800157142574044233920551141076780050053327943524206118874201570297553002132299617809461179129457922396663477856003441694647284308259591271080827565634229147529354208900298674679797282361828611105522665857584534470289596\n",
      "元の数の復元 920937\n"
     ]
    }
   ],
   "source": [
    "import random\n",
    "\n",
    "def xgcd(a, b): #https://tex2e.github.io/blog/crypto/modular-mul-inverseを使いました\n",
    "    x0, y0, x1, y1 = 1, 0, 0, 1\n",
    "    while b != 0:\n",
    "        q, a, b = a // b, b, a % b\n",
    "        x0, x1 = x1, x0 - q * x1\n",
    "        y0, y1 = y1, y0 - q * y1\n",
    "    return a, x0, y0\n",
    "\n",
    "def modinv(a, m): #https://tex2e.github.io/blog/crypto/modular-mul-inverseを使いました\n",
    "    g, x, y = xgcd(a, m)\n",
    "    if g != 1:\n",
    "        raise Exception('modular inverse does not exist')\n",
    "    else:\n",
    "        return x % m\n",
    "\n",
    "#RSA-250\n",
    "\n",
    "p=64135289477071580278790190170577389084825014742943447208116859632024532344630238623598752668347708737661925585694639798853367\n",
    "q=33372027594978156556226010605355114227940760344767554666784520987023841729210037080257448673296881877565718986258036932062711\n",
    "\n",
    "N=p*q\n",
    "NN=2140324650240744961264423072839333563008614715144755017797754920881418023447140136643345519095804679610992851872470914587687396261921557363047454770520805119056493106687691590019759405693457452230589325976697471681738069364894699871578494975937497937\n",
    "if(N==NN): print(True)\n",
    "    \n",
    "opkey=65537\n",
    "\n",
    "phi=(p-1)*(q-1)\n",
    "\n",
    "sckey=modinv(b,phi)\n",
    "\n",
    "adg=5\n",
    "a=random.randint(10**adg,10**adg)\n",
    "a=920937\n",
    "\n",
    "print('元の数',a)\n",
    "c=pow(a,opkey,N)\n",
    "print('暗号化された数',c)\n",
    "\n",
    "d=pow(c,sckey,N)\n",
    "print('元の数の復元',d)"
   ]
  }
 ],
 "metadata": {
  "kernelspec": {
   "display_name": "Python 3",
   "language": "python",
   "name": "python3"
  },
  "language_info": {
   "codemirror_mode": {
    "name": "ipython",
    "version": 3
   },
   "file_extension": ".py",
   "mimetype": "text/x-python",
   "name": "python",
   "nbconvert_exporter": "python",
   "pygments_lexer": "ipython3",
   "version": "3.6.5"
  }
 },
 "nbformat": 4,
 "nbformat_minor": 2
}
